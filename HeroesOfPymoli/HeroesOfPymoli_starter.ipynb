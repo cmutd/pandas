{
 "cells": [
  {
   "cell_type": "markdown",
   "metadata": {},
   "source": [
    "### Heroes Of Pymoli Data Analysis\n",
    "* Of the 1163 active players, the vast majority are male (84%). There also exists, a smaller, but notable proportion of female players (14%).\n",
    "\n",
    "* Our peak age demographic falls between 20-24 (44.8%) with secondary groups falling between 15-19 (18.60%) and 25-29 (13.4%).  \n",
    "\n",
    "* The 20-24 group spent most of the money with most purchase count. In contrast, the group, who are elder than 40, spent lest money with the lest purchase amount. The 35-39 group has the highest average total purchase per person with $4.76.\n",
    "\n",
    "* Although the price of Pursuit, Cudgel of Necromancy is very cheap, the purchase amount is not as many as Oathbreaker, Last Hope of the Breaking Storm. Based on its total purchase value, it could be the lest profitable item. \n",
    "\n",
    "* Due to it's reasonable price, Oathbreaker, Last Hope of the Breaking Storm becomes most popular item. Based on its total purchase value, it could also be a potential profitable item. \n"
   ]
  },
  {
   "cell_type": "markdown",
   "metadata": {},
   "source": [
    "### Note\n",
    "* Instructions have been included for each segment. You do not have to follow them exactly, but they are included to help you think through the steps."
   ]
  },
  {
   "cell_type": "code",
   "execution_count": 480,
   "metadata": {},
   "outputs": [],
   "source": [
    "# Dependencies and Setup\n",
    "import pandas as pd\n",
    "import numpy as np\n",
    "#pd.options.display.float_format='${:,.2f}'.format\n",
    "# File to Load (Remember to Change These)\n",
    "file_to_load = \"Resources/purchase_data.csv\"\n",
    "\n",
    "# Read Purchasing File and store into Pandas data frame\n",
    "purchase_data = pd.read_csv(file_to_load)"
   ]
  },
  {
   "cell_type": "markdown",
   "metadata": {},
   "source": [
    "## Player Count"
   ]
  },
  {
   "cell_type": "markdown",
   "metadata": {},
   "source": [
    "* Display the total number of players\n"
   ]
  },
  {
   "cell_type": "code",
   "execution_count": 482,
   "metadata": {},
   "outputs": [
    {
     "data": {
      "text/html": [
       "<div>\n",
       "<style scoped>\n",
       "    .dataframe tbody tr th:only-of-type {\n",
       "        vertical-align: middle;\n",
       "    }\n",
       "\n",
       "    .dataframe tbody tr th {\n",
       "        vertical-align: top;\n",
       "    }\n",
       "\n",
       "    .dataframe thead th {\n",
       "        text-align: right;\n",
       "    }\n",
       "</style>\n",
       "<table border=\"1\" class=\"dataframe\">\n",
       "  <thead>\n",
       "    <tr style=\"text-align: right;\">\n",
       "      <th></th>\n",
       "      <th>Total Players</th>\n",
       "    </tr>\n",
       "  </thead>\n",
       "  <tbody>\n",
       "    <tr>\n",
       "      <th>0</th>\n",
       "      <td>576</td>\n",
       "    </tr>\n",
       "  </tbody>\n",
       "</table>\n",
       "</div>"
      ],
      "text/plain": [
       "   Total Players\n",
       "0            576"
      ]
     },
     "execution_count": 482,
     "metadata": {},
     "output_type": "execute_result"
    }
   ],
   "source": [
    "pd.DataFrame({\"Total Players\":[purchase_data.SN.nunique()]})"
   ]
  },
  {
   "cell_type": "markdown",
   "metadata": {},
   "source": [
    "## Purchasing Analysis (Total)"
   ]
  },
  {
   "cell_type": "markdown",
   "metadata": {},
   "source": [
    "* Run basic calculations to obtain number of unique items, average price, etc.\n",
    "\n",
    "\n",
    "* Create a summary data frame to hold the results\n",
    "\n",
    "\n",
    "* Optional: give the displayed data cleaner formatting\n",
    "\n",
    "\n",
    "* Display the summary data frame\n"
   ]
  },
  {
   "cell_type": "code",
   "execution_count": 483,
   "metadata": {
    "scrolled": true
   },
   "outputs": [
    {
     "data": {
      "text/html": [
       "<div>\n",
       "<style scoped>\n",
       "    .dataframe tbody tr th:only-of-type {\n",
       "        vertical-align: middle;\n",
       "    }\n",
       "\n",
       "    .dataframe tbody tr th {\n",
       "        vertical-align: top;\n",
       "    }\n",
       "\n",
       "    .dataframe thead th {\n",
       "        text-align: right;\n",
       "    }\n",
       "</style>\n",
       "<table border=\"1\" class=\"dataframe\">\n",
       "  <thead>\n",
       "    <tr style=\"text-align: right;\">\n",
       "      <th></th>\n",
       "      <th>Number of Unique Items</th>\n",
       "      <th>Average Price</th>\n",
       "      <th>Number of Purchases</th>\n",
       "      <th>Total Revenue</th>\n",
       "    </tr>\n",
       "  </thead>\n",
       "  <tbody>\n",
       "    <tr>\n",
       "      <th>0</th>\n",
       "      <td>183</td>\n",
       "      <td>$3.05</td>\n",
       "      <td>780</td>\n",
       "      <td>$2379.77</td>\n",
       "    </tr>\n",
       "  </tbody>\n",
       "</table>\n",
       "</div>"
      ],
      "text/plain": [
       "   Number of Unique Items Average Price  Number of Purchases Total Revenue\n",
       "0                     183         $3.05                  780      $2379.77"
      ]
     },
     "execution_count": 483,
     "metadata": {},
     "output_type": "execute_result"
    }
   ],
   "source": [
    "#Calculate variables\n",
    "uni_items=purchase_data[\"Item ID\"].nunique()\n",
    "aver_price=round(purchase_data.Price.mean(),2)\n",
    "purchase=purchase_data[\"Purchase ID\"].nunique()\n",
    "rev=purchase_data.Price.sum()\n",
    "summary=pd.DataFrame({\"Number of Unique Items\":[uni_items],\n",
    "                      \"Average Price\":[\"$\"+str(aver_price)],\n",
    "                      \"Number of Purchases\":[purchase],\n",
    "                      \"Total Revenue\":[\"$\"+str(rev)]})\n",
    "summary"
   ]
  },
  {
   "cell_type": "markdown",
   "metadata": {},
   "source": [
    "## Gender Demographics"
   ]
  },
  {
   "cell_type": "markdown",
   "metadata": {},
   "source": [
    "* Percentage and Count of Male Players\n",
    "\n",
    "\n",
    "* Percentage and Count of Female Players\n",
    "\n",
    "\n",
    "* Percentage and Count of Other / Non-Disclosed\n",
    "\n",
    "\n"
   ]
  },
  {
   "cell_type": "code",
   "execution_count": 484,
   "metadata": {},
   "outputs": [
    {
     "data": {
      "text/html": [
       "<div>\n",
       "<style scoped>\n",
       "    .dataframe tbody tr th:only-of-type {\n",
       "        vertical-align: middle;\n",
       "    }\n",
       "\n",
       "    .dataframe tbody tr th {\n",
       "        vertical-align: top;\n",
       "    }\n",
       "\n",
       "    .dataframe thead th {\n",
       "        text-align: right;\n",
       "    }\n",
       "</style>\n",
       "<table border=\"1\" class=\"dataframe\">\n",
       "  <thead>\n",
       "    <tr style=\"text-align: right;\">\n",
       "      <th></th>\n",
       "      <th>Total Count</th>\n",
       "      <th>Percentage of Players</th>\n",
       "    </tr>\n",
       "  </thead>\n",
       "  <tbody>\n",
       "    <tr>\n",
       "      <th>Male</th>\n",
       "      <td>484</td>\n",
       "      <td>84.03</td>\n",
       "    </tr>\n",
       "    <tr>\n",
       "      <th>Female</th>\n",
       "      <td>81</td>\n",
       "      <td>14.06</td>\n",
       "    </tr>\n",
       "    <tr>\n",
       "      <th>Other / Non-Disclosed</th>\n",
       "      <td>11</td>\n",
       "      <td>1.91</td>\n",
       "    </tr>\n",
       "  </tbody>\n",
       "</table>\n",
       "</div>"
      ],
      "text/plain": [
       "                       Total Count  Percentage of Players\n",
       "Male                           484                  84.03\n",
       "Female                          81                  14.06\n",
       "Other / Non-Disclosed           11                   1.91"
      ]
     },
     "execution_count": 484,
     "metadata": {},
     "output_type": "execute_result"
    }
   ],
   "source": [
    "# Remove duplicates\n",
    "gender=purchase_data[[\"SN\",\"Gender\"]].drop_duplicates()\n",
    "count=gender[\"Gender\"].value_counts()\n",
    "percent=round(count/count.sum()*100,2)\n",
    "\n",
    "#Combine seriesgender_dem=gender_dem.rename(columns={\"Gender\":\"Total Count\"})\n",
    "gender_dem=pd.concat([count,percent],axis=1)\n",
    "gender_dem.columns=[\"Total Count\", \"Percentage of Players\"]\n",
    "gender_dem\n",
    "\n"
   ]
  },
  {
   "cell_type": "markdown",
   "metadata": {},
   "source": [
    "\n",
    "## Purchasing Analysis (Gender)"
   ]
  },
  {
   "cell_type": "markdown",
   "metadata": {},
   "source": [
    "* Run basic calculations to obtain purchase count, avg. purchase price, avg. purchase total per person etc. by gender\n",
    "\n",
    "\n",
    "\n",
    "\n",
    "* Create a summary data frame to hold the results\n",
    "\n",
    "\n",
    "* Optional: give the displayed data cleaner formatting\n",
    "\n",
    "\n",
    "* Display the summary data frame"
   ]
  },
  {
   "cell_type": "code",
   "execution_count": 485,
   "metadata": {},
   "outputs": [
    {
     "data": {
      "text/html": [
       "<style  type=\"text/css\" >\n",
       "</style><table id=\"T_deb1c926_a024_11e9_a0e6_645d867b0060\" ><thead>    <tr>        <th class=\"blank level0\" ></th>        <th class=\"col_heading level0 col0\" >Purchase Count</th>        <th class=\"col_heading level0 col1\" >Average Purchase Price</th>        <th class=\"col_heading level0 col2\" >Total Purchase Value</th>        <th class=\"col_heading level0 col3\" >Avg Total Purchase per Person</th>    </tr>    <tr>        <th class=\"index_name level0\" >Gender</th>        <th class=\"blank\" ></th>        <th class=\"blank\" ></th>        <th class=\"blank\" ></th>        <th class=\"blank\" ></th>    </tr></thead><tbody>\n",
       "                <tr>\n",
       "                        <th id=\"T_deb1c926_a024_11e9_a0e6_645d867b0060level0_row0\" class=\"row_heading level0 row0\" >Female</th>\n",
       "                        <td id=\"T_deb1c926_a024_11e9_a0e6_645d867b0060row0_col0\" class=\"data row0 col0\" >113</td>\n",
       "                        <td id=\"T_deb1c926_a024_11e9_a0e6_645d867b0060row0_col1\" class=\"data row0 col1\" >$3.20</td>\n",
       "                        <td id=\"T_deb1c926_a024_11e9_a0e6_645d867b0060row0_col2\" class=\"data row0 col2\" >$361.94</td>\n",
       "                        <td id=\"T_deb1c926_a024_11e9_a0e6_645d867b0060row0_col3\" class=\"data row0 col3\" >$4.47</td>\n",
       "            </tr>\n",
       "            <tr>\n",
       "                        <th id=\"T_deb1c926_a024_11e9_a0e6_645d867b0060level0_row1\" class=\"row_heading level0 row1\" >Male</th>\n",
       "                        <td id=\"T_deb1c926_a024_11e9_a0e6_645d867b0060row1_col0\" class=\"data row1 col0\" >652</td>\n",
       "                        <td id=\"T_deb1c926_a024_11e9_a0e6_645d867b0060row1_col1\" class=\"data row1 col1\" >$3.02</td>\n",
       "                        <td id=\"T_deb1c926_a024_11e9_a0e6_645d867b0060row1_col2\" class=\"data row1 col2\" >$1,967.64</td>\n",
       "                        <td id=\"T_deb1c926_a024_11e9_a0e6_645d867b0060row1_col3\" class=\"data row1 col3\" >$4.07</td>\n",
       "            </tr>\n",
       "            <tr>\n",
       "                        <th id=\"T_deb1c926_a024_11e9_a0e6_645d867b0060level0_row2\" class=\"row_heading level0 row2\" >Other / Non-Disclosed</th>\n",
       "                        <td id=\"T_deb1c926_a024_11e9_a0e6_645d867b0060row2_col0\" class=\"data row2 col0\" >15</td>\n",
       "                        <td id=\"T_deb1c926_a024_11e9_a0e6_645d867b0060row2_col1\" class=\"data row2 col1\" >$3.35</td>\n",
       "                        <td id=\"T_deb1c926_a024_11e9_a0e6_645d867b0060row2_col2\" class=\"data row2 col2\" >$50.19</td>\n",
       "                        <td id=\"T_deb1c926_a024_11e9_a0e6_645d867b0060row2_col3\" class=\"data row2 col3\" >$4.56</td>\n",
       "            </tr>\n",
       "    </tbody></table>"
      ],
      "text/plain": [
       "<pandas.io.formats.style.Styler at 0x19983d2af98>"
      ]
     },
     "execution_count": 485,
     "metadata": {},
     "output_type": "execute_result"
    }
   ],
   "source": [
    "purchase=purchase_data[[\"Gender\",\"Price\"]]\n",
    "\n",
    "purchase_count=purchase.Gender.value_counts()\n",
    "total=purchase.groupby(['Gender']).sum()\n",
    "aver_price=purchase.groupby(['Gender']).mean()\n",
    "aver_person=total.Price/gender_dem[\"Total Count\"]\n",
    "\n",
    "# Summarize the data\n",
    "purchase_ana=pd.concat([aver_price,total,aver_person],axis=1,sort=False)\n",
    "\n",
    "# Rename column names\n",
    "purchase_ana.columns=[\"Average Purchase Price\", \"Total Purchase Value\",\"Avg Total Purchase per Person\"]\n",
    "purchase_ana.insert(0, \"Purchase Count\",purchase[\"Gender\"].value_counts())\n",
    "\n",
    "# Format the style\n",
    "\n",
    "# apply to all columns: purchase_ana=purchase_ana.applymap(\"${0:.2f}\".format)\n",
    "# apply as default: pd.options.display.float_format='${:,.2f}'.format\n",
    "\n",
    "purchase_ana=purchase_ana.style.format({\"Average Purchase Price\":\"${:,.2f}\",\n",
    "                                       \"Total Purchase Value\":\"${:,.2f}\",\n",
    "                                       \"Avg Total Purchase per Person\":\"${:,.2f}\"})\n",
    "\n",
    "purchase_ana\n",
    "\n"
   ]
  },
  {
   "cell_type": "markdown",
   "metadata": {},
   "source": [
    "## Age Demographics"
   ]
  },
  {
   "cell_type": "markdown",
   "metadata": {},
   "source": [
    "* Establish bins for ages\n",
    "\n",
    "\n",
    "* Categorize the existing players using the age bins. Hint: use pd.cut()\n",
    "\n",
    "\n",
    "* Calculate the numbers and percentages by age group\n",
    "\n",
    "\n",
    "* Create a summary data frame to hold the results\n",
    "\n",
    "\n",
    "* Optional: round the percentage column to two decimal points\n",
    "\n",
    "\n",
    "* Display Age Demographics Table\n"
   ]
  },
  {
   "cell_type": "code",
   "execution_count": 486,
   "metadata": {},
   "outputs": [
    {
     "data": {
      "text/html": [
       "<div>\n",
       "<style scoped>\n",
       "    .dataframe tbody tr th:only-of-type {\n",
       "        vertical-align: middle;\n",
       "    }\n",
       "\n",
       "    .dataframe tbody tr th {\n",
       "        vertical-align: top;\n",
       "    }\n",
       "\n",
       "    .dataframe thead th {\n",
       "        text-align: right;\n",
       "    }\n",
       "</style>\n",
       "<table border=\"1\" class=\"dataframe\">\n",
       "  <thead>\n",
       "    <tr style=\"text-align: right;\">\n",
       "      <th></th>\n",
       "      <th>Total Count</th>\n",
       "      <th>Percentage of Players</th>\n",
       "    </tr>\n",
       "  </thead>\n",
       "  <tbody>\n",
       "    <tr>\n",
       "      <th>&lt;10</th>\n",
       "      <td>17</td>\n",
       "      <td>2.95</td>\n",
       "    </tr>\n",
       "    <tr>\n",
       "      <th>10-14</th>\n",
       "      <td>22</td>\n",
       "      <td>3.82</td>\n",
       "    </tr>\n",
       "    <tr>\n",
       "      <th>15-19</th>\n",
       "      <td>107</td>\n",
       "      <td>18.58</td>\n",
       "    </tr>\n",
       "    <tr>\n",
       "      <th>20-24</th>\n",
       "      <td>258</td>\n",
       "      <td>44.79</td>\n",
       "    </tr>\n",
       "    <tr>\n",
       "      <th>25-29</th>\n",
       "      <td>77</td>\n",
       "      <td>13.37</td>\n",
       "    </tr>\n",
       "    <tr>\n",
       "      <th>30-34</th>\n",
       "      <td>52</td>\n",
       "      <td>9.03</td>\n",
       "    </tr>\n",
       "    <tr>\n",
       "      <th>35-39</th>\n",
       "      <td>31</td>\n",
       "      <td>5.38</td>\n",
       "    </tr>\n",
       "    <tr>\n",
       "      <th>40+</th>\n",
       "      <td>12</td>\n",
       "      <td>2.08</td>\n",
       "    </tr>\n",
       "  </tbody>\n",
       "</table>\n",
       "</div>"
      ],
      "text/plain": [
       "       Total Count  Percentage of Players\n",
       "<10             17                   2.95\n",
       "10-14           22                   3.82\n",
       "15-19          107                  18.58\n",
       "20-24          258                  44.79\n",
       "25-29           77                  13.37\n",
       "30-34           52                   9.03\n",
       "35-39           31                   5.38\n",
       "40+             12                   2.08"
      ]
     },
     "execution_count": 486,
     "metadata": {},
     "output_type": "execute_result"
    }
   ],
   "source": [
    "#Establish bins for ages\n",
    "age=purchase_data[['SN','Age']].drop_duplicates()\n",
    "bins=[0,9,14,19,24,29,34,39,100]\n",
    "group_name=[\"<10\",\"10-14\",\"15-19\",\"20-24\",\"25-29\",\"30-34\",\"35-39\",\"40+\"]\n",
    "\n",
    "age[\"Category\"]=pd.cut(age.Age,bins,labels=group_name)\n",
    "age_count=age.Category.value_counts()\n",
    "percent=round(age_count/age_demo['Total Count'].sum()*100,2)\n",
    "\n",
    "# Combine data together\n",
    "age_dem=pd.concat([age_count,percent],axis=1)\n",
    "age_dem.columns=[\"Total Count\",\"Percentage of Players\"]\n",
    "\n",
    "# Reindex the dataframe\n",
    "age_dem=age_dem.reindex(group_name)\n",
    "age_dem"
   ]
  },
  {
   "cell_type": "markdown",
   "metadata": {},
   "source": [
    "## Purchasing Analysis (Age)"
   ]
  },
  {
   "cell_type": "markdown",
   "metadata": {},
   "source": [
    "* Bin the purchase_data data frame by age\n",
    "\n",
    "\n",
    "* Run basic calculations to obtain purchase count, avg. purchase price, avg. purchase total per person etc. in the table below\n",
    "\n",
    "\n",
    "* Create a summary data frame to hold the results\n",
    "\n",
    "\n",
    "* Optional: give the displayed data cleaner formatting\n",
    "\n",
    "\n",
    "* Display the summary data frame"
   ]
  },
  {
   "cell_type": "code",
   "execution_count": 487,
   "metadata": {},
   "outputs": [
    {
     "name": "stderr",
     "output_type": "stream",
     "text": [
      "C:\\Users\\CHENM\\Anaconda3\\lib\\site-packages\\ipykernel_launcher.py:6: SettingWithCopyWarning: \n",
      "A value is trying to be set on a copy of a slice from a DataFrame.\n",
      "Try using .loc[row_indexer,col_indexer] = value instead\n",
      "\n",
      "See the caveats in the documentation: http://pandas.pydata.org/pandas-docs/stable/indexing.html#indexing-view-versus-copy\n",
      "  \n"
     ]
    },
    {
     "data": {
      "text/html": [
       "<div>\n",
       "<style scoped>\n",
       "    .dataframe tbody tr th:only-of-type {\n",
       "        vertical-align: middle;\n",
       "    }\n",
       "\n",
       "    .dataframe tbody tr th {\n",
       "        vertical-align: top;\n",
       "    }\n",
       "\n",
       "    .dataframe thead th {\n",
       "        text-align: right;\n",
       "    }\n",
       "</style>\n",
       "<table border=\"1\" class=\"dataframe\">\n",
       "  <thead>\n",
       "    <tr style=\"text-align: right;\">\n",
       "      <th></th>\n",
       "      <th>Purchase Count</th>\n",
       "      <th>Average Purchase Price</th>\n",
       "      <th>Total Purchase Value</th>\n",
       "      <th>Avg Total Purchase per Person</th>\n",
       "    </tr>\n",
       "  </thead>\n",
       "  <tbody>\n",
       "    <tr>\n",
       "      <th>10-14</th>\n",
       "      <td>28</td>\n",
       "      <td>$2.96</td>\n",
       "      <td>$82.78</td>\n",
       "      <td>$3.76</td>\n",
       "    </tr>\n",
       "    <tr>\n",
       "      <th>15-19</th>\n",
       "      <td>136</td>\n",
       "      <td>$3.04</td>\n",
       "      <td>$412.89</td>\n",
       "      <td>$3.86</td>\n",
       "    </tr>\n",
       "    <tr>\n",
       "      <th>20-24</th>\n",
       "      <td>365</td>\n",
       "      <td>$3.05</td>\n",
       "      <td>$1,114.06</td>\n",
       "      <td>$4.32</td>\n",
       "    </tr>\n",
       "    <tr>\n",
       "      <th>25-29</th>\n",
       "      <td>101</td>\n",
       "      <td>$2.90</td>\n",
       "      <td>$293.00</td>\n",
       "      <td>$3.81</td>\n",
       "    </tr>\n",
       "    <tr>\n",
       "      <th>30-34</th>\n",
       "      <td>73</td>\n",
       "      <td>$2.93</td>\n",
       "      <td>$214.00</td>\n",
       "      <td>$4.12</td>\n",
       "    </tr>\n",
       "    <tr>\n",
       "      <th>35-39</th>\n",
       "      <td>41</td>\n",
       "      <td>$3.60</td>\n",
       "      <td>$147.67</td>\n",
       "      <td>$4.76</td>\n",
       "    </tr>\n",
       "    <tr>\n",
       "      <th>40+</th>\n",
       "      <td>13</td>\n",
       "      <td>$2.94</td>\n",
       "      <td>$38.24</td>\n",
       "      <td>$3.19</td>\n",
       "    </tr>\n",
       "    <tr>\n",
       "      <th>&lt;10</th>\n",
       "      <td>23</td>\n",
       "      <td>$3.35</td>\n",
       "      <td>$77.13</td>\n",
       "      <td>$4.54</td>\n",
       "    </tr>\n",
       "  </tbody>\n",
       "</table>\n",
       "</div>"
      ],
      "text/plain": [
       "       Purchase Count Average Purchase Price Total Purchase Value  \\\n",
       "10-14              28                  $2.96               $82.78   \n",
       "15-19             136                  $3.04              $412.89   \n",
       "20-24             365                  $3.05            $1,114.06   \n",
       "25-29             101                  $2.90              $293.00   \n",
       "30-34              73                  $2.93              $214.00   \n",
       "35-39              41                  $3.60              $147.67   \n",
       "40+                13                  $2.94               $38.24   \n",
       "<10                23                  $3.35               $77.13   \n",
       "\n",
       "      Avg Total Purchase per Person  \n",
       "10-14                         $3.76  \n",
       "15-19                         $3.86  \n",
       "20-24                         $4.32  \n",
       "25-29                         $3.81  \n",
       "30-34                         $4.12  \n",
       "35-39                         $4.76  \n",
       "40+                           $3.19  \n",
       "<10                           $4.54  "
      ]
     },
     "execution_count": 487,
     "metadata": {},
     "output_type": "execute_result"
    }
   ],
   "source": [
    "# Extract the related columns\n",
    "age_purchase=purchase_data[[\"Age\",\"Price\"]]\n",
    "bins=[0,9,14,19,24,29,34,39,100]\n",
    "group_name=[\"<10\",\"10-14\",\"15-19\",\"20-24\",\"25-29\",\"30-34\",\"35-39\",\"40+\"]\n",
    "\n",
    "age_purchase['Category']=pd.cut(age_purchase.Age,bins,labels=group_name)\n",
    "\n",
    "# Calculate values\n",
    "purchase_count=age_purchase.Category.value_counts()\n",
    "\n",
    "# Obtain data by group\n",
    "price_category=age_purchase.groupby(\"Category\")\n",
    "aver_price=price_category.mean().Price.map('${:,.2f}'.format)\n",
    "total_price=price_category.sum().Price.map('${:,.2f}'.format)\n",
    "aver_person=(price_category.sum().Price/age_demo[\"Total Count\"]).map('${:,.2f}'.format)\\\n",
    "\n",
    "purchase=pd.concat([purchase_count,aver_price,total_price,aver_person],axis=1)\n",
    "purchase.columns=[\"Purchase Count\",\"Average Purchase Price\",\"Total Purchase Value\",\"Avg Total Purchase per Person\"]\n",
    "purchase=purchase.reindex([\"10-14\",\"15-19\",\"20-24\",\"25-29\",\"30-34\",\"35-39\",\"40+\",\"<10\"])\n",
    "purchase"
   ]
  },
  {
   "cell_type": "markdown",
   "metadata": {},
   "source": [
    "## Top Spenders"
   ]
  },
  {
   "cell_type": "markdown",
   "metadata": {},
   "source": [
    "* Run basic calculations to obtain the results in the table below\n",
    "\n",
    "\n",
    "* Create a summary data frame to hold the results\n",
    "\n",
    "\n",
    "* Sort the total purchase value column in descending order\n",
    "\n",
    "\n",
    "* Optional: give the displayed data cleaner formatting\n",
    "\n",
    "\n",
    "* Display a preview of the summary data frame\n",
    "\n"
   ]
  },
  {
   "cell_type": "code",
   "execution_count": 488,
   "metadata": {},
   "outputs": [
    {
     "data": {
      "text/html": [
       "<style  type=\"text/css\" >\n",
       "</style><table id=\"T_e7fce664_a024_11e9_9a6a_645d867b0060\" ><thead>    <tr>        <th class=\"blank level0\" ></th>        <th class=\"col_heading level0 col0\" >Purchase Count</th>        <th class=\"col_heading level0 col1\" >Average Purchase Price</th>        <th class=\"col_heading level0 col2\" >Total Purchase Value</th>    </tr>    <tr>        <th class=\"index_name level0\" >SN</th>        <th class=\"blank\" ></th>        <th class=\"blank\" ></th>        <th class=\"blank\" ></th>    </tr></thead><tbody>\n",
       "                <tr>\n",
       "                        <th id=\"T_e7fce664_a024_11e9_9a6a_645d867b0060level0_row0\" class=\"row_heading level0 row0\" >Lisosia93</th>\n",
       "                        <td id=\"T_e7fce664_a024_11e9_9a6a_645d867b0060row0_col0\" class=\"data row0 col0\" >5</td>\n",
       "                        <td id=\"T_e7fce664_a024_11e9_9a6a_645d867b0060row0_col1\" class=\"data row0 col1\" >$3.79</td>\n",
       "                        <td id=\"T_e7fce664_a024_11e9_9a6a_645d867b0060row0_col2\" class=\"data row0 col2\" >$18.96</td>\n",
       "            </tr>\n",
       "            <tr>\n",
       "                        <th id=\"T_e7fce664_a024_11e9_9a6a_645d867b0060level0_row1\" class=\"row_heading level0 row1\" >Idastidru52</th>\n",
       "                        <td id=\"T_e7fce664_a024_11e9_9a6a_645d867b0060row1_col0\" class=\"data row1 col0\" >4</td>\n",
       "                        <td id=\"T_e7fce664_a024_11e9_9a6a_645d867b0060row1_col1\" class=\"data row1 col1\" >$3.86</td>\n",
       "                        <td id=\"T_e7fce664_a024_11e9_9a6a_645d867b0060row1_col2\" class=\"data row1 col2\" >$15.45</td>\n",
       "            </tr>\n",
       "            <tr>\n",
       "                        <th id=\"T_e7fce664_a024_11e9_9a6a_645d867b0060level0_row2\" class=\"row_heading level0 row2\" >Chamjask73</th>\n",
       "                        <td id=\"T_e7fce664_a024_11e9_9a6a_645d867b0060row2_col0\" class=\"data row2 col0\" >3</td>\n",
       "                        <td id=\"T_e7fce664_a024_11e9_9a6a_645d867b0060row2_col1\" class=\"data row2 col1\" >$4.61</td>\n",
       "                        <td id=\"T_e7fce664_a024_11e9_9a6a_645d867b0060row2_col2\" class=\"data row2 col2\" >$13.83</td>\n",
       "            </tr>\n",
       "            <tr>\n",
       "                        <th id=\"T_e7fce664_a024_11e9_9a6a_645d867b0060level0_row3\" class=\"row_heading level0 row3\" >Iral74</th>\n",
       "                        <td id=\"T_e7fce664_a024_11e9_9a6a_645d867b0060row3_col0\" class=\"data row3 col0\" >4</td>\n",
       "                        <td id=\"T_e7fce664_a024_11e9_9a6a_645d867b0060row3_col1\" class=\"data row3 col1\" >$3.40</td>\n",
       "                        <td id=\"T_e7fce664_a024_11e9_9a6a_645d867b0060row3_col2\" class=\"data row3 col2\" >$13.62</td>\n",
       "            </tr>\n",
       "            <tr>\n",
       "                        <th id=\"T_e7fce664_a024_11e9_9a6a_645d867b0060level0_row4\" class=\"row_heading level0 row4\" >Iskadarya95</th>\n",
       "                        <td id=\"T_e7fce664_a024_11e9_9a6a_645d867b0060row4_col0\" class=\"data row4 col0\" >3</td>\n",
       "                        <td id=\"T_e7fce664_a024_11e9_9a6a_645d867b0060row4_col1\" class=\"data row4 col1\" >$4.37</td>\n",
       "                        <td id=\"T_e7fce664_a024_11e9_9a6a_645d867b0060row4_col2\" class=\"data row4 col2\" >$13.10</td>\n",
       "            </tr>\n",
       "    </tbody></table>"
      ],
      "text/plain": [
       "<pandas.io.formats.style.Styler at 0x19983ce5c18>"
      ]
     },
     "execution_count": 488,
     "metadata": {},
     "output_type": "execute_result"
    }
   ],
   "source": [
    "purchase=purchase_data[[\"SN\",\"Price\"]].groupby([\"SN\"])\n",
    "count=purchase.count()\n",
    "aver=purchase.mean()\n",
    "total=purchase.sum()\n",
    "\n",
    "#combine data together \n",
    "spender=pd.concat([count,aver,total],axis=1)\n",
    "spender.columns=[\"Purchase Count\",\"Average Purchase Price\",\"Total Purchase Value\"]\n",
    "\n",
    "# display the top 5\n",
    "top_spender=spender.sort_values(by=\"Total Purchase Value\",ascending=False).head(5)\n",
    "\n",
    "top_spender=top_spender.style.format({\"Average Purchase Price\":\"${:,.2f}\",\n",
    "                         \"Total Purchase Value\":\"${:,.2f}\"})\n",
    "top_spender"
   ]
  },
  {
   "cell_type": "markdown",
   "metadata": {},
   "source": [
    "## Most Popular Items"
   ]
  },
  {
   "cell_type": "markdown",
   "metadata": {},
   "source": [
    "* Retrieve the Item ID, Item Name, and Item Price columns\n",
    "\n",
    "\n",
    "* Group by Item ID and Item Name. Perform calculations to obtain purchase count, item price, and total purchase value\n",
    "\n",
    "\n",
    "* Create a summary data frame to hold the results\n",
    "\n",
    "\n",
    "* Sort the purchase count column in descending order\n",
    "\n",
    "\n",
    "* Optional: give the displayed data cleaner formatting\n",
    "\n",
    "\n",
    "* Display a preview of the summary data frame\n",
    "\n"
   ]
  },
  {
   "cell_type": "code",
   "execution_count": 489,
   "metadata": {},
   "outputs": [
    {
     "data": {
      "text/html": [
       "<style  type=\"text/css\" >\n",
       "</style><table id=\"T_ebd0c2d8_a024_11e9_ab97_645d867b0060\" ><thead>    <tr>        <th class=\"blank\" ></th>        <th class=\"blank level0\" ></th>        <th class=\"col_heading level0 col0\" >Purchase Count</th>        <th class=\"col_heading level0 col1\" >Item Price</th>        <th class=\"col_heading level0 col2\" >Total Purchase Value</th>    </tr>    <tr>        <th class=\"index_name level0\" >Item ID</th>        <th class=\"index_name level1\" >Item Name</th>        <th class=\"blank\" ></th>        <th class=\"blank\" ></th>        <th class=\"blank\" ></th>    </tr></thead><tbody>\n",
       "                <tr>\n",
       "                        <th id=\"T_ebd0c2d8_a024_11e9_ab97_645d867b0060level0_row0\" class=\"row_heading level0 row0\" >178</th>\n",
       "                        <th id=\"T_ebd0c2d8_a024_11e9_ab97_645d867b0060level1_row0\" class=\"row_heading level1 row0\" >Oathbreaker, Last Hope of the Breaking Storm</th>\n",
       "                        <td id=\"T_ebd0c2d8_a024_11e9_ab97_645d867b0060row0_col0\" class=\"data row0 col0\" >12</td>\n",
       "                        <td id=\"T_ebd0c2d8_a024_11e9_ab97_645d867b0060row0_col1\" class=\"data row0 col1\" >$4.23</td>\n",
       "                        <td id=\"T_ebd0c2d8_a024_11e9_ab97_645d867b0060row0_col2\" class=\"data row0 col2\" >$50.76</td>\n",
       "            </tr>\n",
       "            <tr>\n",
       "                        <th id=\"T_ebd0c2d8_a024_11e9_ab97_645d867b0060level0_row1\" class=\"row_heading level0 row1\" >145</th>\n",
       "                        <th id=\"T_ebd0c2d8_a024_11e9_ab97_645d867b0060level1_row1\" class=\"row_heading level1 row1\" >Fiery Glass Crusader</th>\n",
       "                        <td id=\"T_ebd0c2d8_a024_11e9_ab97_645d867b0060row1_col0\" class=\"data row1 col0\" >9</td>\n",
       "                        <td id=\"T_ebd0c2d8_a024_11e9_ab97_645d867b0060row1_col1\" class=\"data row1 col1\" >$4.58</td>\n",
       "                        <td id=\"T_ebd0c2d8_a024_11e9_ab97_645d867b0060row1_col2\" class=\"data row1 col2\" >$41.22</td>\n",
       "            </tr>\n",
       "            <tr>\n",
       "                        <th id=\"T_ebd0c2d8_a024_11e9_ab97_645d867b0060level0_row2\" class=\"row_heading level0 row2\" >108</th>\n",
       "                        <th id=\"T_ebd0c2d8_a024_11e9_ab97_645d867b0060level1_row2\" class=\"row_heading level1 row2\" >Extraction, Quickblade Of Trembling Hands</th>\n",
       "                        <td id=\"T_ebd0c2d8_a024_11e9_ab97_645d867b0060row2_col0\" class=\"data row2 col0\" >9</td>\n",
       "                        <td id=\"T_ebd0c2d8_a024_11e9_ab97_645d867b0060row2_col1\" class=\"data row2 col1\" >$3.53</td>\n",
       "                        <td id=\"T_ebd0c2d8_a024_11e9_ab97_645d867b0060row2_col2\" class=\"data row2 col2\" >$31.77</td>\n",
       "            </tr>\n",
       "            <tr>\n",
       "                        <th id=\"T_ebd0c2d8_a024_11e9_ab97_645d867b0060level0_row3\" class=\"row_heading level0 row3\" >82</th>\n",
       "                        <th id=\"T_ebd0c2d8_a024_11e9_ab97_645d867b0060level1_row3\" class=\"row_heading level1 row3\" >Nirvana</th>\n",
       "                        <td id=\"T_ebd0c2d8_a024_11e9_ab97_645d867b0060row3_col0\" class=\"data row3 col0\" >9</td>\n",
       "                        <td id=\"T_ebd0c2d8_a024_11e9_ab97_645d867b0060row3_col1\" class=\"data row3 col1\" >$4.90</td>\n",
       "                        <td id=\"T_ebd0c2d8_a024_11e9_ab97_645d867b0060row3_col2\" class=\"data row3 col2\" >$44.10</td>\n",
       "            </tr>\n",
       "            <tr>\n",
       "                        <th id=\"T_ebd0c2d8_a024_11e9_ab97_645d867b0060level0_row4\" class=\"row_heading level0 row4\" >19</th>\n",
       "                        <th id=\"T_ebd0c2d8_a024_11e9_ab97_645d867b0060level1_row4\" class=\"row_heading level1 row4\" >Pursuit, Cudgel of Necromancy</th>\n",
       "                        <td id=\"T_ebd0c2d8_a024_11e9_ab97_645d867b0060row4_col0\" class=\"data row4 col0\" >8</td>\n",
       "                        <td id=\"T_ebd0c2d8_a024_11e9_ab97_645d867b0060row4_col1\" class=\"data row4 col1\" >$1.02</td>\n",
       "                        <td id=\"T_ebd0c2d8_a024_11e9_ab97_645d867b0060row4_col2\" class=\"data row4 col2\" >$8.16</td>\n",
       "            </tr>\n",
       "    </tbody></table>"
      ],
      "text/plain": [
       "<pandas.io.formats.style.Styler at 0x19983f13f60>"
      ]
     },
     "execution_count": 489,
     "metadata": {},
     "output_type": "execute_result"
    }
   ],
   "source": [
    "# Extract related columns\n",
    "raw_data=purchase_data[['Item ID', 'Item Name','Price']]\n",
    "\n",
    "# Group the data by id and name\n",
    "raw_data_group=raw_data.groupby(['Item ID',\"Item Name\"])\n",
    "\n",
    "# Calculate the values \n",
    "purchase_count=raw_data_group.count()\n",
    "purchase_sum=raw_data_group.sum()\n",
    "item_price=raw_data_group.mean()\n",
    "\n",
    "item=pd.concat([purchase_count, item_price, purchase_sum],axis=1)\n",
    "item.columns=[\"Purchase Count\",\"Item Price\",\"Total Purchase Value\"]\n",
    "\n",
    "\n",
    "# Display the top 5\n",
    "top_item=item.sort_values(by=\"Purchase Count\",ascending=False).head(5)\n",
    "\n",
    "top_item=top_item.style.format({\"Item Price\":\"${:,.2f}\",\n",
    "                         \"Total Purchase Value\":\"${:,.2f}\"})\n"
   ]
  },
  {
   "cell_type": "markdown",
   "metadata": {},
   "source": [
    "## Most Profitable Items"
   ]
  },
  {
   "cell_type": "markdown",
   "metadata": {},
   "source": [
    "* Sort the above table by total purchase value in descending order\n",
    "\n",
    "\n",
    "* Optional: give the displayed data cleaner formatting\n",
    "\n",
    "\n",
    "* Display a preview of the data frame\n",
    "\n"
   ]
  },
  {
   "cell_type": "code",
   "execution_count": 490,
   "metadata": {},
   "outputs": [
    {
     "data": {
      "text/html": [
       "<style  type=\"text/css\" >\n",
       "</style><table id=\"T_edba7c5a_a024_11e9_a743_645d867b0060\" ><thead>    <tr>        <th class=\"blank\" ></th>        <th class=\"blank level0\" ></th>        <th class=\"col_heading level0 col0\" >Purchase Count</th>        <th class=\"col_heading level0 col1\" >Item Price</th>        <th class=\"col_heading level0 col2\" >Total Purchase Value</th>    </tr>    <tr>        <th class=\"index_name level0\" >Item ID</th>        <th class=\"index_name level1\" >Item Name</th>        <th class=\"blank\" ></th>        <th class=\"blank\" ></th>        <th class=\"blank\" ></th>    </tr></thead><tbody>\n",
       "                <tr>\n",
       "                        <th id=\"T_edba7c5a_a024_11e9_a743_645d867b0060level0_row0\" class=\"row_heading level0 row0\" >178</th>\n",
       "                        <th id=\"T_edba7c5a_a024_11e9_a743_645d867b0060level1_row0\" class=\"row_heading level1 row0\" >Oathbreaker, Last Hope of the Breaking Storm</th>\n",
       "                        <td id=\"T_edba7c5a_a024_11e9_a743_645d867b0060row0_col0\" class=\"data row0 col0\" >12</td>\n",
       "                        <td id=\"T_edba7c5a_a024_11e9_a743_645d867b0060row0_col1\" class=\"data row0 col1\" >$4.23</td>\n",
       "                        <td id=\"T_edba7c5a_a024_11e9_a743_645d867b0060row0_col2\" class=\"data row0 col2\" >$50.76</td>\n",
       "            </tr>\n",
       "            <tr>\n",
       "                        <th id=\"T_edba7c5a_a024_11e9_a743_645d867b0060level0_row1\" class=\"row_heading level0 row1\" >82</th>\n",
       "                        <th id=\"T_edba7c5a_a024_11e9_a743_645d867b0060level1_row1\" class=\"row_heading level1 row1\" >Nirvana</th>\n",
       "                        <td id=\"T_edba7c5a_a024_11e9_a743_645d867b0060row1_col0\" class=\"data row1 col0\" >9</td>\n",
       "                        <td id=\"T_edba7c5a_a024_11e9_a743_645d867b0060row1_col1\" class=\"data row1 col1\" >$4.90</td>\n",
       "                        <td id=\"T_edba7c5a_a024_11e9_a743_645d867b0060row1_col2\" class=\"data row1 col2\" >$44.10</td>\n",
       "            </tr>\n",
       "            <tr>\n",
       "                        <th id=\"T_edba7c5a_a024_11e9_a743_645d867b0060level0_row2\" class=\"row_heading level0 row2\" >145</th>\n",
       "                        <th id=\"T_edba7c5a_a024_11e9_a743_645d867b0060level1_row2\" class=\"row_heading level1 row2\" >Fiery Glass Crusader</th>\n",
       "                        <td id=\"T_edba7c5a_a024_11e9_a743_645d867b0060row2_col0\" class=\"data row2 col0\" >9</td>\n",
       "                        <td id=\"T_edba7c5a_a024_11e9_a743_645d867b0060row2_col1\" class=\"data row2 col1\" >$4.58</td>\n",
       "                        <td id=\"T_edba7c5a_a024_11e9_a743_645d867b0060row2_col2\" class=\"data row2 col2\" >$41.22</td>\n",
       "            </tr>\n",
       "            <tr>\n",
       "                        <th id=\"T_edba7c5a_a024_11e9_a743_645d867b0060level0_row3\" class=\"row_heading level0 row3\" >92</th>\n",
       "                        <th id=\"T_edba7c5a_a024_11e9_a743_645d867b0060level1_row3\" class=\"row_heading level1 row3\" >Final Critic</th>\n",
       "                        <td id=\"T_edba7c5a_a024_11e9_a743_645d867b0060row3_col0\" class=\"data row3 col0\" >8</td>\n",
       "                        <td id=\"T_edba7c5a_a024_11e9_a743_645d867b0060row3_col1\" class=\"data row3 col1\" >$4.88</td>\n",
       "                        <td id=\"T_edba7c5a_a024_11e9_a743_645d867b0060row3_col2\" class=\"data row3 col2\" >$39.04</td>\n",
       "            </tr>\n",
       "            <tr>\n",
       "                        <th id=\"T_edba7c5a_a024_11e9_a743_645d867b0060level0_row4\" class=\"row_heading level0 row4\" >103</th>\n",
       "                        <th id=\"T_edba7c5a_a024_11e9_a743_645d867b0060level1_row4\" class=\"row_heading level1 row4\" >Singed Scalpel</th>\n",
       "                        <td id=\"T_edba7c5a_a024_11e9_a743_645d867b0060row4_col0\" class=\"data row4 col0\" >8</td>\n",
       "                        <td id=\"T_edba7c5a_a024_11e9_a743_645d867b0060row4_col1\" class=\"data row4 col1\" >$4.35</td>\n",
       "                        <td id=\"T_edba7c5a_a024_11e9_a743_645d867b0060row4_col2\" class=\"data row4 col2\" >$34.80</td>\n",
       "            </tr>\n",
       "    </tbody></table>"
      ],
      "text/plain": [
       "<pandas.io.formats.style.Styler at 0x19983d20b38>"
      ]
     },
     "execution_count": 490,
     "metadata": {},
     "output_type": "execute_result"
    }
   ],
   "source": [
    "top_profit=item.sort_values(by=\"Total Purchase Value\",ascending=False).head(5)\n",
    "\n",
    "top_profit=top_profit.style.format({\"Item Price\":\"${:,.2f}\",\n",
    "                         \"Total Purchase Value\":\"${:,.2f}\"})\n",
    "\n",
    "top_profit"
   ]
  }
 ],
 "metadata": {
  "anaconda-cloud": {},
  "kernel_info": {
   "name": "python3"
  },
  "kernelspec": {
   "display_name": "Python 3",
   "language": "python",
   "name": "python3"
  },
  "language_info": {
   "codemirror_mode": {
    "name": "ipython",
    "version": 3
   },
   "file_extension": ".py",
   "mimetype": "text/x-python",
   "name": "python",
   "nbconvert_exporter": "python",
   "pygments_lexer": "ipython3",
   "version": "3.7.3"
  },
  "nteract": {
   "version": "0.2.0"
  }
 },
 "nbformat": 4,
 "nbformat_minor": 2
}
